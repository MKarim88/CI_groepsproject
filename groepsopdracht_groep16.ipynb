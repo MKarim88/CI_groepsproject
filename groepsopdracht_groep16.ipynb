{
 "cells": [
  {
   "cell_type": "markdown",
   "metadata": {},
   "source": [
    "# Modules importeren"
   ]
  },
  {
   "cell_type": "code",
   "execution_count": 1,
   "metadata": {},
   "outputs": [],
   "source": [
    "import pandas as pd\n",
    "import json\n",
    "import matplotlib.pyplot as plt\n",
    "import numpy as np\n",
    "from collections import Counter\n",
    "import sklearn.metrics.pairwise as pw\n",
    "import re\n",
    "import spacy\n",
    "import pandas as pd\n",
    "import numpy as np\n",
    "import sklearn\n",
    "import os\n",
    "from IPython.display import clear_output\n",
    "\n",
    "def load_jsons(data_path, file):\n",
    "    \"\"\" helper function to load '.json' files (they're not proper jsons) \"\"\"\n",
    "    file_path = data_path + file\n",
    "    with open(file_path) as jsons:\n",
    "        lines = [json.loads(json_line) for json_line in jsons]\n",
    "    return pd.DataFrame(lines)"
   ]
  },
  {
   "cell_type": "markdown",
   "metadata": {},
   "source": [
    "# Functies initialiseren"
   ]
  },
  {
   "cell_type": "code",
   "execution_count": 2,
   "metadata": {},
   "outputs": [
    {
     "name": "stdout",
     "output_type": "stream",
     "text": [
      "Wall time: 0 ns\n"
     ]
    }
   ],
   "source": [
    "%%time\n",
    "def split_data(data, d = 0.75):\n",
    "    \"\"\"Split data in a training and test set.\n",
    "    \n",
    "    Arguments:\n",
    "    data -- any dataFrame.\n",
    "    d    -- the fraction of data in the training set\n",
    "    \"\"\"\n",
    "    np.random.seed(seed=5)\n",
    "    mask_test = np.random.rand(data.shape[0]) < d\n",
    "    return data[mask_test], data[~mask_test]\n",
    "\n",
    "def pivot_ratings(df):\n",
    "    \"\"\"Creates a utility matrix for user ratings for movies\n",
    "    \n",
    "    Arguments:\n",
    "    df -- a dataFrame containing at least the columns 'movieId' and 'genres'\n",
    "    \n",
    "    Output:\n",
    "    a matrix containing a rating in each cell. np.nan means that the user did not rate the movie\n",
    "    \"\"\"\n",
    "    return df.pivot_table(values='stars', columns='user_id', index='business_id')\n",
    "\n",
    "def create_similarity_matrix_cosine(matrix):\n",
    "    \"\"\"Creates a adjusted(/soft) cosine similarity matrix.\n",
    "    \n",
    "    Arguments:\n",
    "    matrix -- a utility matrix\n",
    "    \n",
    "    Notes:\n",
    "    Missing values are set to 0. This is technically not a 100% correct, but is more convenient \n",
    "    for computation and does not have a big effect on the outcome.\n",
    "    \"\"\"\n",
    "    mc_matrix = matrix - matrix.mean(axis = 0)\n",
    "    return pd.DataFrame(pw.cosine_similarity(mc_matrix.fillna(0)), index = matrix.index, columns = matrix.index)\n",
    "\n",
    "\n",
    "def mse(predicted_ratings):\n",
    "    \"\"\"Computes the mean square error between actual ratings and predicted ratings\n",
    "    \n",
    "    Arguments:\n",
    "    predicted_ratings -- a dataFrame containing the columns rating and predicted rating\n",
    "    \"\"\"\n",
    "    return ((predicted_ratings['stars'] - predicted_ratings['predicted rating'])**2).mean()\n",
    "                            \n",
    "# def extractCategories(businesses):\n",
    "#     businessC = business.copy()[businesses['categories'].dropna()]\n",
    "#     categories = [value for values in businesses['categories'].values for value in values]\n",
    "#     return categories\n",
    "\n",
    "def pivotCategories(df):\n",
    "    \"\"\"Create a one-hot encoded matrix for categories.\n",
    "    \n",
    "    Arguments:\n",
    "    df -- a dataFrame containing at least the columns 'business_id' and 'categories'\n",
    "    \n",
    "    Output:\n",
    "    a matrix containing '0' or '1' in each cell.\n",
    "    1: the movie has the category\n",
    "    0: the movie does not have the category\n",
    "    \"\"\"\n",
    "    return df.pivot_table(index = 'business_id', columns = 'category', aggfunc = 'size', fill_value=0)\n",
    "\n",
    "\n",
    "def recommended(predictions, threshold):\n",
    "    return predictions[predictions['predicted rating'] >= threshold].reindex(columns=['user_id', 'movie_id'])  \n",
    "\n",
    "def hidden(predictions, threshold):\n",
    "    return predictions[predictions['predicted rating'] < threshold].reindex(columns=['user_id', 'movie_id'])\n",
    "\n",
    "def used(predictions, threshold):\n",
    "    return predictions[predictions['stars'] >= threshold].reindex(columns=['user_id', 'movie_id'])\n",
    "\n",
    "def unused(predictions, threshold):\n",
    "    return predictions[predictions['stars'] < threshold].reindex(columns=['user_id', 'movie_id'])\n",
    "\n",
    "def confusion(recommended, hidden, used, unused):\n",
    "\n",
    "    true_pos = len(recommended.reindex(set(recommended.index).intersection(set(used.index))))\n",
    "    false_pos = len(recommended.reindex(set(recommended.index).intersection(set(unused.index))))\n",
    "    true_neg = len(hidden.reindex(set(hidden.index).intersection(set(used.index))))\n",
    "    false_neg = len(hidden.reindex(set(hidden.index).intersection(set(unused.index))))\n",
    "    return pd.DataFrame(index=['recommended', 'hidden'], columns=['used','unused'], data=[[true_pos, false_pos],[true_neg, false_neg]])\n",
    "\n",
    "def precision(confusion_matrix):\n",
    "    return confusion_matrix.loc['recommended', 'used']/(confusion_matrix.loc['recommended','unused']+confusion_matrix.loc['recommended', 'used'])\n",
    "\n",
    "def recall(confusion_matrix):\n",
    "    return confusion_matrix.loc['recommended', 'used']/(confusion_matrix.loc['recommended', 'used']+confusion_matrix.loc['hidden', 'used'])\n",
    "\n",
    "def get_pr(frame, threshold_recommended, threshold_used):\n",
    "    # return precision and recall from DataFrame\n",
    "    \n",
    "    # get recommended, hidden, used, unused\n",
    "    r = recommended(frame, threshold_recommended)\n",
    "    h = hidden(frame, threshold_recommended)\n",
    "    u = used(frame, threshold_used)\n",
    "    un = unused(frame, threshold_used)\n",
    "    \n",
    "    confusion_matrix = confusion(r, h, u, un) \n",
    "    \n",
    "    p = precision(confusion_matrix)\n",
    "    r = recall(confusion_matrix)\n",
    "    \n",
    "    return p, r\n",
    "\n",
    "def stripSplit(string):\n",
    "    return [value.strip('& ').lower() for value in string.split(',')]\n",
    "\n",
    "def extractCategories(business):\n",
    "    \"\"\"Create an unfolded genre dataframe. Unpacks genres seprated by a ',' into seperate rows.\n",
    "\n",
    "    Arguments:\n",
    "    movies -- a dataFrame containing at least the columns 'business_id' and 'categoires' \n",
    "              where genres are seprated by ','\n",
    "    \"\"\"\n",
    "    genres_m = business.apply(lambda row: pd.Series([row['business_id']] + row['categories']), axis=1)\n",
    "    stack_genres = genres_m.set_index(0).stack()\n",
    "    df_stack_genres = stack_genres.to_frame()\n",
    "    df_stack_genres['business_id'] = stack_genres.index.droplevel(1)\n",
    "    df_stack_genres.columns = ['category', 'business_id']\n",
    "    return df_stack_genres.reset_index()[['business_id', 'category']]\n",
    "\n",
    "def extract_genres(movies):\n",
    "    \"\"\"Create an unfolded genre dataframe. Unpacks genres seprated by a '|' into seperate rows.\n",
    "\n",
    "    Arguments:\n",
    "    movies -- a dataFrame containing at least the columns 'movieId' and 'genres' \n",
    "              where genres are seprated by '|'\n",
    "    \"\"\"\n",
    "    genres_m = movies.apply(lambda row: pd.Series([row['business_id']] + row['categories'].split(',')), axis=1)\n",
    "    stack_genres = genres_m.set_index(0).stack()\n",
    "    df_stack_genres = stack_genres.to_frame()\n",
    "    df_stack_genres['business_id'] = stack_genres.index.droplevel(1)\n",
    "    df_stack_genres.columns = ['category', 'business_id']\n",
    "    return df_stack_genres.reset_index()[['business_id', 'category']]\n",
    "\n",
    "def create_similarity_matrix_jaccard(matrix):\n",
    "    m11 = matrix @ matrix.T\n",
    "    m10 = pd.DataFrame(matrix.sum(axis = 1).values + np.zeros(m11.shape), index = m11.index, columns = m11.index)\n",
    "    m01 = m10.T\n",
    "    return m11/(m01 + m10 - m11)\n",
    "\n",
    "def split_data(data, d = 0.75):\n",
    "    \"\"\"Split data in a training and test set.\n",
    "    \n",
    "    Arguments:\n",
    "    data -- any dataFrame.\n",
    "    d    -- the fraction of data in the training set\n",
    "    \"\"\"\n",
    "    np.random.seed(seed=5)\n",
    "    mask_test = np.random.rand(data.shape[0]) < d\n",
    "    return data[mask_test], data[~mask_test]\n",
    "\n",
    "def predict_ratings(similarity, utility, to_predict):\n",
    "    \"\"\"Predicts the predicted rating for the input test data.\n",
    "    \n",
    "    Arguments:\n",
    "    similarity -- a dataFrame that describes the similarity between items\n",
    "    utility    -- a dataFrame that contains a rating for each user (columns) and each movie (rows). \n",
    "                  If a user did not rate an item the value np.nan is assumed. \n",
    "    to_predict -- A dataFrame containing at least the columns movieId and userId for which to do the predictions\n",
    "    \"\"\"\n",
    "    # copy input (don't overwrite)\n",
    "    ratings_test_c = to_predict.copy()\n",
    "    # apply prediction to each row\n",
    "    ratings_test_c['predicted rating'] = to_predict.apply(lambda row: predict_ids(similarity, utility, row['user_id'], row['business_id']), axis=1)\n",
    "    return ratings_test_c\n",
    "\n",
    "def predict_ids(similarity, utility, userId, itemId):\n",
    "    # select right series from matrices and compute\n",
    "    if userId in utility.columns and itemId in similarity.index:\n",
    "        return predict_vectors(utility.loc[:,userId], similarity[itemId])\n",
    "    return 0\n",
    "\n",
    "def predict_vectors(user_ratings, similarities):\n",
    "    # select only movies actually rated by user\n",
    "    relevant_ratings = user_ratings.dropna()\n",
    "    \n",
    "    # select corresponding similairties\n",
    "    similarities_s = similarities[relevant_ratings.index]\n",
    "    \n",
    "    # select neighborhood\n",
    "    similarities_s = similarities_s[similarities_s > 0.0]\n",
    "    relevant_ratings = relevant_ratings[similarities_s.index]\n",
    "    \n",
    "    # if there's nothing left return a prediction of 0\n",
    "    norm = similarities_s.sum()\n",
    "    if(norm == 0):\n",
    "        return 0\n",
    "    \n",
    "    # compute a weighted average (i.e. neighborhood is all) \n",
    "    return np.dot(relevant_ratings, similarities_s)/norm\n",
    "\n",
    "def select_neighborhood(similarities, ratings, k):\n",
    "    \"\"\" selects all items with similarity > 0  \"\"\"\n",
    "    return similarities[(similarities.notna() & ratings.notna()) & (similarities>0)][:k]\n",
    "\n",
    "def weighted_mean(neighborhood, ratings):  \n",
    "    if len(neighborhood) != 0:\n",
    "        # multiply similarity of items in neighborhood with the respective rating, then divide the sum with the sum \n",
    "        # of the similarities\n",
    "        numerator = (neighborhood * ratings.reindex(neighborhood.index)).sum()\n",
    "        denominator = neighborhood.sum()\n",
    "        return numerator/denominator\n",
    "    return np.nan\n",
    "\n",
    "def addMean(prediction, userId):\n",
    "    if prediction == 0:\n",
    "        return userMeans[userId]\n",
    "    return prediction\n",
    "\n",
    "def recommendBusinesses(user, predictions, businesses, users, n=5, threshold_recommended=3):\n",
    "    # get n amount of random ids where rating > threshold_recommended\n",
    "    recommendedIds = predictions[(predictions['user_id'] == user) & (predictions['predicted rating'] >= threshold_recommended)].sample(frac=1)\n",
    "    recommendedIds = list(recommendedIds['business_id'].values)[:n]\n",
    "    \n",
    "    # \n",
    "    businessNames = list(businesses[businesses['business_id'].isin(recommendedIds)]['name'].values)\n",
    "    username = list(users[users['user_id'] == user]['name'].values)[0]\n",
    "    return businessNames, recommendedIds, username\n",
    "\n",
    "def printRecommmended(recommendBusinesses):\n",
    "    print(f'For {recommendBusinesses[2]} we recommend the following business(es):')\n",
    "    for business in recommendBusinesses[0]:\n",
    "        print(f'{business}')\n",
    "        \n",
    "def multiPredict(userThreshold, businessThreshold, reviewType, algorithmType, reviews):\n",
    "    \"\"\"\n",
    "    Function that returns the mse of predictions based on users and businesses with more than a certain amount of reviews.\n",
    "    \n",
    "    Arguments:\n",
    "    userThreshold     -- minimum amount of reviews a user needs to be included in the dataframe.\n",
    "    businessThreshold -- minimum amount of reviews a business needs to be included in the dataframe.\n",
    "    reviewType        -- wheteher the amount of reviews for a user is based on their total reviews in the region or not.\n",
    "                         Takes either \"local count\" or \"review_count\" as values, respectively.\n",
    "    predictionType    -- which algorithm to use. Takes either \"user\", \"item\", \"content\", \"random\" or \"mean\" as values.\n",
    "    \"\"\"\n",
    "    \n",
    "    # restrict reviews to users and businesses that exceed the threshold.\n",
    "    userList = users[users[reviewType] >= userThreshold]['user_id'].values\n",
    "    businessList = businessCopy[businessCopy['review_count'] >= businessThreshold]['business_id'].values\n",
    "    reviewsCopy = reviews.copy()[(reviews['business_id'].isin(businessList)) & (reviews['user_id'].isin(userList))]\n",
    "    \n",
    "    # split data utility ratings\n",
    "    trainingSet, testSet = split_data(reviewsCopy,.8)\n",
    "    utilityRatings = pivot_ratings(trainingSet)\n",
    "    \n",
    "    # predict content based ratings\n",
    "    if algorithmType == 'content':\n",
    "        utilityGenres = pivotCategories(extractCategories(businessCopy))\n",
    "        similarityGenres = create_similarity_matrix_jaccard(utilityGenres)\n",
    "        predicted = predict_ratings(similarityGenres, utilityRatings, testSet)\n",
    "        \n",
    "    # predict item based ratings    \n",
    "    elif algorithmType == 'item':\n",
    "        similarityBusinesses = create_similarity_matrix_cosine(utilityRatings)\n",
    "        predicted = predict_ratings(similarityBusinesses, utilityRatings, testSet)\n",
    "        \n",
    "    # predict user based ratings\n",
    "    elif algorithmType == 'user':\n",
    "        utilityRatings2 = utilityRatings.T.reindex(index=sorted(utilityRatings))\n",
    "        similarityUsers = create_similarity_matrix_cosine(utilityRatings)\n",
    "        predicted = predict_ratings(similarityUsers, utilityRatings2, testSet)\n",
    "        \n",
    "    # predict mean based ratings\n",
    "    elif algorithmType == 'mean':\n",
    "        predicted = testSet.copy()\n",
    "        userMeans = pd.Series(users['average_stars'].values, users['user_id'], name='average_stars')\n",
    "        predicted = predictedMean.merge(userMeans, on='user_id')\n",
    "        predicted = predictedMean.rename(columns={\"average_stars\": \"predicted rating\"})\n",
    "    \n",
    "    # predict random based ratings\n",
    "    else:\n",
    "        predicted= testSet.copy()\n",
    "        predicted['predicted rating'] = [0 + (5 * np.random.random_sample()) for x in range(len(predicted))]\n",
    "        \n",
    "    predicted = predicted[predicted['predicted rating'] != 0]    \n",
    "    return predicted\n",
    "\n",
    "def getYr(date):\n",
    "    return int(date[:4])"
   ]
  },
  {
   "cell_type": "markdown",
   "metadata": {},
   "source": [
    "# Data inladen"
   ]
  },
  {
   "cell_type": "code",
   "execution_count": 3,
   "metadata": {},
   "outputs": [
    {
     "name": "stdout",
     "output_type": "stream",
     "text": [
      "Wall time: 2.18 s\n"
     ]
    }
   ],
   "source": [
    "%%time\n",
    "# Load data for town called markham\n",
    "data_path = './data/markham/'\n",
    "review_file = 'review.json'\n",
    "business_file = 'business.json'\n",
    "user_file = 'user.json'\n",
    "tip_file = 'tip.json'\n",
    "checkin_file = 'checkin.json'\n",
    "\n",
    "reviews = load_jsons(data_path, review_file)\n",
    "businesses = load_jsons(data_path, business_file)\n",
    "users = load_jsons(data_path, user_file)\n",
    "tips = load_jsons(data_path, tip_file)\n",
    "checkins = load_jsons(data_path, checkin_file)"
   ]
  },
  {
   "cell_type": "code",
   "execution_count": 4,
   "metadata": {
    "scrolled": true
   },
   "outputs": [
    {
     "data": {
      "text/html": [
       "<div>\n",
       "<style scoped>\n",
       "    .dataframe tbody tr th:only-of-type {\n",
       "        vertical-align: middle;\n",
       "    }\n",
       "\n",
       "    .dataframe tbody tr th {\n",
       "        vertical-align: top;\n",
       "    }\n",
       "\n",
       "    .dataframe thead th {\n",
       "        text-align: right;\n",
       "    }\n",
       "</style>\n",
       "<table border=\"1\" class=\"dataframe\">\n",
       "  <thead>\n",
       "    <tr style=\"text-align: right;\">\n",
       "      <th></th>\n",
       "      <th>review_id</th>\n",
       "      <th>user_id</th>\n",
       "      <th>business_id</th>\n",
       "      <th>stars</th>\n",
       "      <th>useful</th>\n",
       "      <th>funny</th>\n",
       "      <th>cool</th>\n",
       "      <th>text</th>\n",
       "      <th>date</th>\n",
       "    </tr>\n",
       "  </thead>\n",
       "  <tbody>\n",
       "    <tr>\n",
       "      <th>0</th>\n",
       "      <td>G7XHMxG0bx9oBJNECG4IFg</td>\n",
       "      <td>jlu4CztcSxrKx56ba1a5AQ</td>\n",
       "      <td>3fw2X5bZYeW9xCz_zGhOHg</td>\n",
       "      <td>3.0</td>\n",
       "      <td>5</td>\n",
       "      <td>4</td>\n",
       "      <td>5</td>\n",
       "      <td>Tracy dessert had a big name in Hong Kong and ...</td>\n",
       "      <td>2016-05-07 01:21:02</td>\n",
       "    </tr>\n",
       "    <tr>\n",
       "      <th>1</th>\n",
       "      <td>9cW1B-T6M3ER3_rH_36h9Q</td>\n",
       "      <td>D-vYE3HILl7Qk1UhYqZXYQ</td>\n",
       "      <td>6sATfFam9_q9uod0I2aCsg</td>\n",
       "      <td>5.0</td>\n",
       "      <td>1</td>\n",
       "      <td>0</td>\n",
       "      <td>0</td>\n",
       "      <td>I really enjoyed my visit here.\\nEverything wa...</td>\n",
       "      <td>2014-02-05 18:07:17</td>\n",
       "    </tr>\n",
       "    <tr>\n",
       "      <th>2</th>\n",
       "      <td>-W5OFbi3nixHZ0DTJmFK-w</td>\n",
       "      <td>h_2NGTYvjOc38cjx90rM5Q</td>\n",
       "      <td>b7e60tdyJxT_l-cstvMbfw</td>\n",
       "      <td>5.0</td>\n",
       "      <td>0</td>\n",
       "      <td>0</td>\n",
       "      <td>0</td>\n",
       "      <td>Just took the 6:30am class - My muscles have b...</td>\n",
       "      <td>2016-12-19 13:07:58</td>\n",
       "    </tr>\n",
       "    <tr>\n",
       "      <th>3</th>\n",
       "      <td>SWWVBFpSIsaWCgVePls5Yw</td>\n",
       "      <td>9lBu5VMrZpZEmp6scDYoaA</td>\n",
       "      <td>TtMRSbakzmWvfDDo5Ni3Hg</td>\n",
       "      <td>5.0</td>\n",
       "      <td>1</td>\n",
       "      <td>0</td>\n",
       "      <td>1</td>\n",
       "      <td>I remember going to this salon a few years ago...</td>\n",
       "      <td>2018-05-28 20:41:46</td>\n",
       "    </tr>\n",
       "    <tr>\n",
       "      <th>4</th>\n",
       "      <td>S7eyLPcXJLeD902kGeIHLA</td>\n",
       "      <td>-V-bzlNcuQc0otRfYKbZDg</td>\n",
       "      <td>6sATfFam9_q9uod0I2aCsg</td>\n",
       "      <td>1.0</td>\n",
       "      <td>0</td>\n",
       "      <td>0</td>\n",
       "      <td>0</td>\n",
       "      <td>I have taken my family to this place before.  ...</td>\n",
       "      <td>2016-04-23 01:57:02</td>\n",
       "    </tr>\n",
       "  </tbody>\n",
       "</table>\n",
       "</div>"
      ],
      "text/plain": [
       "                review_id                 user_id             business_id  \\\n",
       "0  G7XHMxG0bx9oBJNECG4IFg  jlu4CztcSxrKx56ba1a5AQ  3fw2X5bZYeW9xCz_zGhOHg   \n",
       "1  9cW1B-T6M3ER3_rH_36h9Q  D-vYE3HILl7Qk1UhYqZXYQ  6sATfFam9_q9uod0I2aCsg   \n",
       "2  -W5OFbi3nixHZ0DTJmFK-w  h_2NGTYvjOc38cjx90rM5Q  b7e60tdyJxT_l-cstvMbfw   \n",
       "3  SWWVBFpSIsaWCgVePls5Yw  9lBu5VMrZpZEmp6scDYoaA  TtMRSbakzmWvfDDo5Ni3Hg   \n",
       "4  S7eyLPcXJLeD902kGeIHLA  -V-bzlNcuQc0otRfYKbZDg  6sATfFam9_q9uod0I2aCsg   \n",
       "\n",
       "   stars  useful  funny  cool  \\\n",
       "0    3.0       5      4     5   \n",
       "1    5.0       1      0     0   \n",
       "2    5.0       0      0     0   \n",
       "3    5.0       1      0     1   \n",
       "4    1.0       0      0     0   \n",
       "\n",
       "                                                text                 date  \n",
       "0  Tracy dessert had a big name in Hong Kong and ...  2016-05-07 01:21:02  \n",
       "1  I really enjoyed my visit here.\\nEverything wa...  2014-02-05 18:07:17  \n",
       "2  Just took the 6:30am class - My muscles have b...  2016-12-19 13:07:58  \n",
       "3  I remember going to this salon a few years ago...  2018-05-28 20:41:46  \n",
       "4  I have taken my family to this place before.  ...  2016-04-23 01:57:02  "
      ]
     },
     "metadata": {},
     "output_type": "display_data"
    },
    {
     "data": {
      "text/html": [
       "<div>\n",
       "<style scoped>\n",
       "    .dataframe tbody tr th:only-of-type {\n",
       "        vertical-align: middle;\n",
       "    }\n",
       "\n",
       "    .dataframe tbody tr th {\n",
       "        vertical-align: top;\n",
       "    }\n",
       "\n",
       "    .dataframe thead th {\n",
       "        text-align: right;\n",
       "    }\n",
       "</style>\n",
       "<table border=\"1\" class=\"dataframe\">\n",
       "  <thead>\n",
       "    <tr style=\"text-align: right;\">\n",
       "      <th></th>\n",
       "      <th>business_id</th>\n",
       "      <th>name</th>\n",
       "      <th>address</th>\n",
       "      <th>city</th>\n",
       "      <th>state</th>\n",
       "      <th>postal_code</th>\n",
       "      <th>latitude</th>\n",
       "      <th>longitude</th>\n",
       "      <th>stars</th>\n",
       "      <th>review_count</th>\n",
       "      <th>is_open</th>\n",
       "      <th>attributes</th>\n",
       "      <th>categories</th>\n",
       "      <th>hours</th>\n",
       "    </tr>\n",
       "  </thead>\n",
       "  <tbody>\n",
       "    <tr>\n",
       "      <th>0</th>\n",
       "      <td>HBQG_DT8pfbkv8jiv3P6Gw</td>\n",
       "      <td>Winners</td>\n",
       "      <td>3105 Highway 7</td>\n",
       "      <td>Markham</td>\n",
       "      <td>ON</td>\n",
       "      <td>L3R 0T9</td>\n",
       "      <td>43.847997</td>\n",
       "      <td>-79.353733</td>\n",
       "      <td>2.5</td>\n",
       "      <td>8</td>\n",
       "      <td>1</td>\n",
       "      <td>{'RestaurantsPriceRange2': '2', 'BusinessParki...</td>\n",
       "      <td>Shopping, Discount Store</td>\n",
       "      <td>{'Monday': '9:30-21:0', 'Tuesday': '9:30-21:0'...</td>\n",
       "    </tr>\n",
       "    <tr>\n",
       "      <th>1</th>\n",
       "      <td>YOhtdvjmveAtsblep0CQrg</td>\n",
       "      <td>Moksha Yoga Markham</td>\n",
       "      <td>5051 Highway 7, Suiite 2</td>\n",
       "      <td>Markham</td>\n",
       "      <td>ON</td>\n",
       "      <td>L3R 1N3</td>\n",
       "      <td>43.865262</td>\n",
       "      <td>-79.289421</td>\n",
       "      <td>4.0</td>\n",
       "      <td>23</td>\n",
       "      <td>1</td>\n",
       "      <td>{'BusinessParking': '{'garage': False, 'street...</td>\n",
       "      <td>Fitness &amp; Instruction, Yoga, Education, Active...</td>\n",
       "      <td>{'Monday': '16:0-23:0', 'Tuesday': '16:30-23:0...</td>\n",
       "    </tr>\n",
       "    <tr>\n",
       "      <th>2</th>\n",
       "      <td>_72dMXdWbVAgwB-Bxwz-mw</td>\n",
       "      <td>Champions Cuisine</td>\n",
       "      <td>8321 Kennedy Road, unit 1071</td>\n",
       "      <td>Markham</td>\n",
       "      <td>ON</td>\n",
       "      <td>L3R</td>\n",
       "      <td>43.856381</td>\n",
       "      <td>-79.304410</td>\n",
       "      <td>3.5</td>\n",
       "      <td>7</td>\n",
       "      <td>0</td>\n",
       "      <td>{'RestaurantsAttire': ''casual'', 'Restaurants...</td>\n",
       "      <td>Chinese, Restaurants</td>\n",
       "      <td>None</td>\n",
       "    </tr>\n",
       "    <tr>\n",
       "      <th>3</th>\n",
       "      <td>1sVIau1rvgec3ul6g7EJag</td>\n",
       "      <td>Supermobile</td>\n",
       "      <td>E69 - 4300 Steeles Avenue E</td>\n",
       "      <td>Markham</td>\n",
       "      <td>ON</td>\n",
       "      <td>L3R 0Y5</td>\n",
       "      <td>43.825004</td>\n",
       "      <td>-79.305815</td>\n",
       "      <td>4.0</td>\n",
       "      <td>3</td>\n",
       "      <td>1</td>\n",
       "      <td>{'RestaurantsPriceRange2': '1'}</td>\n",
       "      <td>Mobile Phones, Shopping</td>\n",
       "      <td>None</td>\n",
       "    </tr>\n",
       "    <tr>\n",
       "      <th>4</th>\n",
       "      <td>tREKISC21iPORmC24fEpdw</td>\n",
       "      <td>Canada Robotix</td>\n",
       "      <td>800 Denison Street, Unit 8</td>\n",
       "      <td>Markham</td>\n",
       "      <td>ON</td>\n",
       "      <td>L3R 5M9</td>\n",
       "      <td>43.825675</td>\n",
       "      <td>-79.335138</td>\n",
       "      <td>2.5</td>\n",
       "      <td>3</td>\n",
       "      <td>1</td>\n",
       "      <td>None</td>\n",
       "      <td>Shopping, Electronics</td>\n",
       "      <td>None</td>\n",
       "    </tr>\n",
       "  </tbody>\n",
       "</table>\n",
       "</div>"
      ],
      "text/plain": [
       "              business_id                 name                       address  \\\n",
       "0  HBQG_DT8pfbkv8jiv3P6Gw              Winners                3105 Highway 7   \n",
       "1  YOhtdvjmveAtsblep0CQrg  Moksha Yoga Markham      5051 Highway 7, Suiite 2   \n",
       "2  _72dMXdWbVAgwB-Bxwz-mw    Champions Cuisine  8321 Kennedy Road, unit 1071   \n",
       "3  1sVIau1rvgec3ul6g7EJag          Supermobile   E69 - 4300 Steeles Avenue E   \n",
       "4  tREKISC21iPORmC24fEpdw       Canada Robotix    800 Denison Street, Unit 8   \n",
       "\n",
       "      city state postal_code   latitude  longitude  stars  review_count  \\\n",
       "0  Markham    ON     L3R 0T9  43.847997 -79.353733    2.5             8   \n",
       "1  Markham    ON     L3R 1N3  43.865262 -79.289421    4.0            23   \n",
       "2  Markham    ON         L3R  43.856381 -79.304410    3.5             7   \n",
       "3  Markham    ON     L3R 0Y5  43.825004 -79.305815    4.0             3   \n",
       "4  Markham    ON     L3R 5M9  43.825675 -79.335138    2.5             3   \n",
       "\n",
       "   is_open                                         attributes  \\\n",
       "0        1  {'RestaurantsPriceRange2': '2', 'BusinessParki...   \n",
       "1        1  {'BusinessParking': '{'garage': False, 'street...   \n",
       "2        0  {'RestaurantsAttire': ''casual'', 'Restaurants...   \n",
       "3        1                    {'RestaurantsPriceRange2': '1'}   \n",
       "4        1                                               None   \n",
       "\n",
       "                                          categories  \\\n",
       "0                           Shopping, Discount Store   \n",
       "1  Fitness & Instruction, Yoga, Education, Active...   \n",
       "2                               Chinese, Restaurants   \n",
       "3                            Mobile Phones, Shopping   \n",
       "4                              Shopping, Electronics   \n",
       "\n",
       "                                               hours  \n",
       "0  {'Monday': '9:30-21:0', 'Tuesday': '9:30-21:0'...  \n",
       "1  {'Monday': '16:0-23:0', 'Tuesday': '16:30-23:0...  \n",
       "2                                               None  \n",
       "3                                               None  \n",
       "4                                               None  "
      ]
     },
     "metadata": {},
     "output_type": "display_data"
    },
    {
     "data": {
      "text/html": [
       "<div>\n",
       "<style scoped>\n",
       "    .dataframe tbody tr th:only-of-type {\n",
       "        vertical-align: middle;\n",
       "    }\n",
       "\n",
       "    .dataframe tbody tr th {\n",
       "        vertical-align: top;\n",
       "    }\n",
       "\n",
       "    .dataframe thead th {\n",
       "        text-align: right;\n",
       "    }\n",
       "</style>\n",
       "<table border=\"1\" class=\"dataframe\">\n",
       "  <thead>\n",
       "    <tr style=\"text-align: right;\">\n",
       "      <th></th>\n",
       "      <th>user_id</th>\n",
       "      <th>name</th>\n",
       "      <th>review_count</th>\n",
       "      <th>yelping_since</th>\n",
       "      <th>useful</th>\n",
       "      <th>funny</th>\n",
       "      <th>cool</th>\n",
       "      <th>elite</th>\n",
       "      <th>friends</th>\n",
       "      <th>fans</th>\n",
       "      <th>...</th>\n",
       "      <th>compliment_more</th>\n",
       "      <th>compliment_profile</th>\n",
       "      <th>compliment_cute</th>\n",
       "      <th>compliment_list</th>\n",
       "      <th>compliment_note</th>\n",
       "      <th>compliment_plain</th>\n",
       "      <th>compliment_cool</th>\n",
       "      <th>compliment_funny</th>\n",
       "      <th>compliment_writer</th>\n",
       "      <th>compliment_photos</th>\n",
       "    </tr>\n",
       "  </thead>\n",
       "  <tbody>\n",
       "    <tr>\n",
       "      <th>0</th>\n",
       "      <td>z5y4ejvC8uaUg5fGEJHbRA</td>\n",
       "      <td>A</td>\n",
       "      <td>19</td>\n",
       "      <td>2013-05-28 17:49:42</td>\n",
       "      <td>33</td>\n",
       "      <td>4</td>\n",
       "      <td>3</td>\n",
       "      <td></td>\n",
       "      <td>5fvybUMH9N9Gx1zKw8UbBQ, I0HBD2I7uT_LU_gA9Gb9HA...</td>\n",
       "      <td>1</td>\n",
       "      <td>...</td>\n",
       "      <td>0</td>\n",
       "      <td>0</td>\n",
       "      <td>0</td>\n",
       "      <td>0</td>\n",
       "      <td>0</td>\n",
       "      <td>1</td>\n",
       "      <td>0</td>\n",
       "      <td>0</td>\n",
       "      <td>0</td>\n",
       "      <td>0</td>\n",
       "    </tr>\n",
       "    <tr>\n",
       "      <th>1</th>\n",
       "      <td>AsYMm_O4H-mwmWbmeACDHw</td>\n",
       "      <td>Christopher</td>\n",
       "      <td>318</td>\n",
       "      <td>2015-01-17 17:04:09</td>\n",
       "      <td>400</td>\n",
       "      <td>175</td>\n",
       "      <td>223</td>\n",
       "      <td>2016,2017,2018</td>\n",
       "      <td>4I_AqfW1E_OLDskrgxxU0Q, 0hm1__RgRWYvHXxWfUJMyA...</td>\n",
       "      <td>24</td>\n",
       "      <td>...</td>\n",
       "      <td>4</td>\n",
       "      <td>1</td>\n",
       "      <td>0</td>\n",
       "      <td>0</td>\n",
       "      <td>2</td>\n",
       "      <td>4</td>\n",
       "      <td>4</td>\n",
       "      <td>4</td>\n",
       "      <td>2</td>\n",
       "      <td>5</td>\n",
       "    </tr>\n",
       "    <tr>\n",
       "      <th>2</th>\n",
       "      <td>B4GZ3kX1TpxJUCkpPqYqng</td>\n",
       "      <td>Vivian</td>\n",
       "      <td>20</td>\n",
       "      <td>2012-11-07 18:54:40</td>\n",
       "      <td>32</td>\n",
       "      <td>16</td>\n",
       "      <td>11</td>\n",
       "      <td></td>\n",
       "      <td>KBVL9aPlcLVwqyFQ__EeIA, jsEzCXrpP4jiHVLiAmCwdA...</td>\n",
       "      <td>2</td>\n",
       "      <td>...</td>\n",
       "      <td>0</td>\n",
       "      <td>0</td>\n",
       "      <td>0</td>\n",
       "      <td>0</td>\n",
       "      <td>1</td>\n",
       "      <td>3</td>\n",
       "      <td>2</td>\n",
       "      <td>2</td>\n",
       "      <td>3</td>\n",
       "      <td>0</td>\n",
       "    </tr>\n",
       "    <tr>\n",
       "      <th>3</th>\n",
       "      <td>FDw1j4PYezkEkddd1phDmg</td>\n",
       "      <td>Amy</td>\n",
       "      <td>78</td>\n",
       "      <td>2014-12-12 04:50:47</td>\n",
       "      <td>77</td>\n",
       "      <td>26</td>\n",
       "      <td>33</td>\n",
       "      <td>2017,2018</td>\n",
       "      <td>AXh-myES40x4AmxlaEXGfg, 4_FbACsOh6BQEmICiJNIEQ...</td>\n",
       "      <td>10</td>\n",
       "      <td>...</td>\n",
       "      <td>1</td>\n",
       "      <td>0</td>\n",
       "      <td>0</td>\n",
       "      <td>0</td>\n",
       "      <td>1</td>\n",
       "      <td>3</td>\n",
       "      <td>2</td>\n",
       "      <td>2</td>\n",
       "      <td>0</td>\n",
       "      <td>0</td>\n",
       "    </tr>\n",
       "    <tr>\n",
       "      <th>4</th>\n",
       "      <td>foCj2hDfH84WGwglfAbDVA</td>\n",
       "      <td>Susie</td>\n",
       "      <td>124</td>\n",
       "      <td>2016-09-05 07:31:43</td>\n",
       "      <td>53</td>\n",
       "      <td>8</td>\n",
       "      <td>16</td>\n",
       "      <td></td>\n",
       "      <td>q8sQX_8uQvP0WDsAmeNdKg, Xj1ODF2MaMFkK_YUORjLVg...</td>\n",
       "      <td>3</td>\n",
       "      <td>...</td>\n",
       "      <td>0</td>\n",
       "      <td>0</td>\n",
       "      <td>0</td>\n",
       "      <td>0</td>\n",
       "      <td>0</td>\n",
       "      <td>0</td>\n",
       "      <td>2</td>\n",
       "      <td>2</td>\n",
       "      <td>0</td>\n",
       "      <td>0</td>\n",
       "    </tr>\n",
       "  </tbody>\n",
       "</table>\n",
       "<p>5 rows × 22 columns</p>\n",
       "</div>"
      ],
      "text/plain": [
       "                  user_id         name  review_count        yelping_since  \\\n",
       "0  z5y4ejvC8uaUg5fGEJHbRA            A            19  2013-05-28 17:49:42   \n",
       "1  AsYMm_O4H-mwmWbmeACDHw  Christopher           318  2015-01-17 17:04:09   \n",
       "2  B4GZ3kX1TpxJUCkpPqYqng       Vivian            20  2012-11-07 18:54:40   \n",
       "3  FDw1j4PYezkEkddd1phDmg          Amy            78  2014-12-12 04:50:47   \n",
       "4  foCj2hDfH84WGwglfAbDVA        Susie           124  2016-09-05 07:31:43   \n",
       "\n",
       "   useful  funny  cool           elite  \\\n",
       "0      33      4     3                   \n",
       "1     400    175   223  2016,2017,2018   \n",
       "2      32     16    11                   \n",
       "3      77     26    33       2017,2018   \n",
       "4      53      8    16                   \n",
       "\n",
       "                                             friends  fans  ...  \\\n",
       "0  5fvybUMH9N9Gx1zKw8UbBQ, I0HBD2I7uT_LU_gA9Gb9HA...     1  ...   \n",
       "1  4I_AqfW1E_OLDskrgxxU0Q, 0hm1__RgRWYvHXxWfUJMyA...    24  ...   \n",
       "2  KBVL9aPlcLVwqyFQ__EeIA, jsEzCXrpP4jiHVLiAmCwdA...     2  ...   \n",
       "3  AXh-myES40x4AmxlaEXGfg, 4_FbACsOh6BQEmICiJNIEQ...    10  ...   \n",
       "4  q8sQX_8uQvP0WDsAmeNdKg, Xj1ODF2MaMFkK_YUORjLVg...     3  ...   \n",
       "\n",
       "   compliment_more  compliment_profile  compliment_cute  compliment_list  \\\n",
       "0                0                   0                0                0   \n",
       "1                4                   1                0                0   \n",
       "2                0                   0                0                0   \n",
       "3                1                   0                0                0   \n",
       "4                0                   0                0                0   \n",
       "\n",
       "   compliment_note  compliment_plain  compliment_cool  compliment_funny  \\\n",
       "0                0                 1                0                 0   \n",
       "1                2                 4                4                 4   \n",
       "2                1                 3                2                 2   \n",
       "3                1                 3                2                 2   \n",
       "4                0                 0                2                 2   \n",
       "\n",
       "   compliment_writer  compliment_photos  \n",
       "0                  0                  0  \n",
       "1                  2                  5  \n",
       "2                  3                  0  \n",
       "3                  0                  0  \n",
       "4                  0                  0  \n",
       "\n",
       "[5 rows x 22 columns]"
      ]
     },
     "metadata": {},
     "output_type": "display_data"
    },
    {
     "data": {
      "text/html": [
       "<div>\n",
       "<style scoped>\n",
       "    .dataframe tbody tr th:only-of-type {\n",
       "        vertical-align: middle;\n",
       "    }\n",
       "\n",
       "    .dataframe tbody tr th {\n",
       "        vertical-align: top;\n",
       "    }\n",
       "\n",
       "    .dataframe thead th {\n",
       "        text-align: right;\n",
       "    }\n",
       "</style>\n",
       "<table border=\"1\" class=\"dataframe\">\n",
       "  <thead>\n",
       "    <tr style=\"text-align: right;\">\n",
       "      <th></th>\n",
       "      <th>user_id</th>\n",
       "      <th>business_id</th>\n",
       "      <th>text</th>\n",
       "      <th>date</th>\n",
       "      <th>compliment_count</th>\n",
       "    </tr>\n",
       "  </thead>\n",
       "  <tbody>\n",
       "    <tr>\n",
       "      <th>0</th>\n",
       "      <td>BqAMAM9wkjUyOJzqYOHg5g</td>\n",
       "      <td>bNqBMZ00lnhhfxzV8OhLfQ</td>\n",
       "      <td>Southern BBQ in Markham?! Whuuut?!</td>\n",
       "      <td>2013-06-01 20:30:47</td>\n",
       "      <td>0</td>\n",
       "    </tr>\n",
       "    <tr>\n",
       "      <th>1</th>\n",
       "      <td>Goa5tRkCURz-53WZAABBEw</td>\n",
       "      <td>hHYG2qoMId-y-HRkwNHoWQ</td>\n",
       "      <td>Quality seems to be going downhill</td>\n",
       "      <td>2013-05-19 23:24:10</td>\n",
       "      <td>0</td>\n",
       "    </tr>\n",
       "    <tr>\n",
       "      <th>2</th>\n",
       "      <td>s_SzQvkDfn18Cquma7DndQ</td>\n",
       "      <td>aa0uz1y1-ziTOveuE34HTw</td>\n",
       "      <td>10% discount happening during the soft opening</td>\n",
       "      <td>2017-03-14 03:42:36</td>\n",
       "      <td>0</td>\n",
       "    </tr>\n",
       "    <tr>\n",
       "      <th>3</th>\n",
       "      <td>yeX7tzZZWCnphQifRJglUg</td>\n",
       "      <td>MLYy937DjHHtE5Cwpg3NEQ</td>\n",
       "      <td>The neck of the fork is weak easily bends.</td>\n",
       "      <td>2013-07-06 14:55:05</td>\n",
       "      <td>0</td>\n",
       "    </tr>\n",
       "    <tr>\n",
       "      <th>4</th>\n",
       "      <td>Em4XpeXTKXVy4GjBL291pA</td>\n",
       "      <td>2_8_ipfxCRtpXesLdBCqig</td>\n",
       "      <td>CUTE DESSERTS AND LITTLE GIFTS! If you need a ...</td>\n",
       "      <td>2016-05-07 17:18:10</td>\n",
       "      <td>0</td>\n",
       "    </tr>\n",
       "  </tbody>\n",
       "</table>\n",
       "</div>"
      ],
      "text/plain": [
       "                  user_id             business_id  \\\n",
       "0  BqAMAM9wkjUyOJzqYOHg5g  bNqBMZ00lnhhfxzV8OhLfQ   \n",
       "1  Goa5tRkCURz-53WZAABBEw  hHYG2qoMId-y-HRkwNHoWQ   \n",
       "2  s_SzQvkDfn18Cquma7DndQ  aa0uz1y1-ziTOveuE34HTw   \n",
       "3  yeX7tzZZWCnphQifRJglUg  MLYy937DjHHtE5Cwpg3NEQ   \n",
       "4  Em4XpeXTKXVy4GjBL291pA  2_8_ipfxCRtpXesLdBCqig   \n",
       "\n",
       "                                                text                 date  \\\n",
       "0                 Southern BBQ in Markham?! Whuuut?!  2013-06-01 20:30:47   \n",
       "1                 Quality seems to be going downhill  2013-05-19 23:24:10   \n",
       "2     10% discount happening during the soft opening  2017-03-14 03:42:36   \n",
       "3         The neck of the fork is weak easily bends.  2013-07-06 14:55:05   \n",
       "4  CUTE DESSERTS AND LITTLE GIFTS! If you need a ...  2016-05-07 17:18:10   \n",
       "\n",
       "   compliment_count  \n",
       "0                 0  \n",
       "1                 0  \n",
       "2                 0  \n",
       "3                 0  \n",
       "4                 0  "
      ]
     },
     "metadata": {},
     "output_type": "display_data"
    },
    {
     "data": {
      "text/html": [
       "<div>\n",
       "<style scoped>\n",
       "    .dataframe tbody tr th:only-of-type {\n",
       "        vertical-align: middle;\n",
       "    }\n",
       "\n",
       "    .dataframe tbody tr th {\n",
       "        vertical-align: top;\n",
       "    }\n",
       "\n",
       "    .dataframe thead th {\n",
       "        text-align: right;\n",
       "    }\n",
       "</style>\n",
       "<table border=\"1\" class=\"dataframe\">\n",
       "  <thead>\n",
       "    <tr style=\"text-align: right;\">\n",
       "      <th></th>\n",
       "      <th>business_id</th>\n",
       "      <th>date</th>\n",
       "    </tr>\n",
       "  </thead>\n",
       "  <tbody>\n",
       "    <tr>\n",
       "      <th>0</th>\n",
       "      <td>-0DET7VdEQOJVJ_v6klEug</td>\n",
       "      <td>2017-05-01 23:34:52, 2017-05-01 23:44:21, 2017...</td>\n",
       "    </tr>\n",
       "    <tr>\n",
       "      <th>1</th>\n",
       "      <td>-0FA-Qdi3SPYIoJz9UQw-A</td>\n",
       "      <td>2018-09-29 18:55:17, 2018-10-20 16:48:05, 2018...</td>\n",
       "    </tr>\n",
       "    <tr>\n",
       "      <th>2</th>\n",
       "      <td>-0T0jfPnuBRdpNTXpOQZcA</td>\n",
       "      <td>2012-12-28 14:40:47, 2013-02-25 16:04:45, 2013...</td>\n",
       "    </tr>\n",
       "    <tr>\n",
       "      <th>3</th>\n",
       "      <td>-1LvG5O5lzfqUeti0Z3L5Q</td>\n",
       "      <td>2018-05-14 18:44:20</td>\n",
       "    </tr>\n",
       "    <tr>\n",
       "      <th>4</th>\n",
       "      <td>-2lSbNMhXKYu7URjEE59qA</td>\n",
       "      <td>2012-02-04 02:13:43, 2012-06-21 16:57:41, 2012...</td>\n",
       "    </tr>\n",
       "  </tbody>\n",
       "</table>\n",
       "</div>"
      ],
      "text/plain": [
       "              business_id                                               date\n",
       "0  -0DET7VdEQOJVJ_v6klEug  2017-05-01 23:34:52, 2017-05-01 23:44:21, 2017...\n",
       "1  -0FA-Qdi3SPYIoJz9UQw-A  2018-09-29 18:55:17, 2018-10-20 16:48:05, 2018...\n",
       "2  -0T0jfPnuBRdpNTXpOQZcA  2012-12-28 14:40:47, 2013-02-25 16:04:45, 2013...\n",
       "3  -1LvG5O5lzfqUeti0Z3L5Q                                2018-05-14 18:44:20\n",
       "4  -2lSbNMhXKYu7URjEE59qA  2012-02-04 02:13:43, 2012-06-21 16:57:41, 2012..."
      ]
     },
     "metadata": {},
     "output_type": "display_data"
    }
   ],
   "source": [
    "display(reviews.head())\n",
    "display(businesses.head())\n",
    "display(users.head())\n",
    "display(tips.head())\n",
    "display(checkins.head())"
   ]
  },
  {
   "cell_type": "markdown",
   "metadata": {},
   "source": [
    "# Analyse plots"
   ]
  },
  {
   "cell_type": "code",
   "execution_count": 5,
   "metadata": {},
   "outputs": [
    {
     "data": {
      "text/plain": [
       "([<matplotlib.axis.XTick at 0x234cb61fa48>,\n",
       "  <matplotlib.axis.XTick at 0x234cb61de08>,\n",
       "  <matplotlib.axis.XTick at 0x234cb61ab48>,\n",
       "  <matplotlib.axis.XTick at 0x234d0651d48>,\n",
       "  <matplotlib.axis.XTick at 0x234d06532c8>,\n",
       "  <matplotlib.axis.XTick at 0x234d06540c8>,\n",
       "  <matplotlib.axis.XTick at 0x234d0656a08>,\n",
       "  <matplotlib.axis.XTick at 0x234d0659908>,\n",
       "  <matplotlib.axis.XTick at 0x234d065c988>,\n",
       "  <matplotlib.axis.XTick at 0x234d0675288>,\n",
       "  <matplotlib.axis.XTick at 0x234d0676ac8>],\n",
       " <a list of 11 Text xticklabel objects>)"
      ]
     },
     "execution_count": 5,
     "metadata": {},
     "output_type": "execute_result"
    },
    {
     "data": {
      "image/png": "[encoded data removed]",
      "text/plain": [
       "<Figure size 432x288 with 1 Axes>"
      ]
     },
     "metadata": {
      "needs_background": "light"
     },
     "output_type": "display_data"
    }
   ],
   "source": [
    "reviewsC = reviews.copy()\n",
    "reviewsC['year'] = reviewsC['date'].map(getYr)\n",
    "\n",
    "years = list(reviewsC.groupby('year').count().index)\n",
    "amount = list(reviewsC.groupby('year')['review_id'].count().values)\n",
    "\n",
    "plt.bar(years, amount)\n",
    "plt.subplots_adjust(left=0, right=1)\n",
    "plt.xlabel('year')\n",
    "plt.ylabel('number of reviews')\n",
    "plt.title('Amount of reviews per year')\n",
    "plt.xticks(years)"
   ]
  },
  {
   "cell_type": "code",
   "execution_count": 6,
   "metadata": {},
   "outputs": [
    {
     "data": {
      "text/plain": [
       "<matplotlib.legend.Legend at 0x234c9ec8b88>"
      ]
     },
     "execution_count": 6,
     "metadata": {},
     "output_type": "execute_result"
    },
    {
     "data": {
      "image/png": "[encoded data removed]",
      "text/plain": [
       "<Figure size 432x288 with 1 Axes>"
      ]
     },
     "metadata": {
      "needs_background": "light"
     },
     "output_type": "display_data"
    }
   ],
   "source": [
    "plt.plot(users[\"review_count\"].sort_values(ascending=False).values)\n",
    "plt.plot(businesses['review_count'].sort_values(ascending=False).values)\n",
    "plt.xlabel('user/business rank')\n",
    "plt.ylabel('reviews per user/business')\n",
    "plt.title('Distribution of amount of reviews')\n",
    "plt.legend(['users', 'businesses'], loc='upper right')"
   ]
  },
  {
   "cell_type": "code",
   "execution_count": 7,
   "metadata": {},
   "outputs": [
    {
     "data": {
      "text/plain": [
       "Text(0.5, 1.0, 'Histogram of review scores')"
      ]
     },
     "execution_count": 7,
     "metadata": {},
     "output_type": "execute_result"
    },
    {
     "data": {
      "image/png": "[encoded data removed]",
      "text/plain": [
       "<Figure size 432x288 with 1 Axes>"
      ]
     },
     "metadata": {
      "needs_background": "light"
     },
     "output_type": "display_data"
    }
   ],
   "source": [
    "plt.hist(reviews['stars'].values, bins=np.arange(7)-0.5, rwidth=.5)\n",
    "plt.xticks([1,2,3,4,5])\n",
    "plt.xlim(1,5)\n",
    "plt.xlabel('review score')\n",
    "plt.ylabel('number of reviews')\n",
    "plt.title('Histogram of review scores')"
   ]
  },
  {
   "cell_type": "code",
   "execution_count": 8,
   "metadata": {},
   "outputs": [
    {
     "data": {
      "text/plain": [
       "Text(0.5, 1.0, 'Distribution of amount of reviews')"
      ]
     },
     "execution_count": 8,
     "metadata": {},
     "output_type": "execute_result"
    },
    {
     "data": {
      "image/png": "[encoded data removed]",
      "text/plain": [
       "<Figure size 432x288 with 1 Axes>"
      ]
     },
     "metadata": {
      "needs_background": "light"
     },
     "output_type": "display_data"
    }
   ],
   "source": [
    "plt.plot(users[\"review_count\"].sort_values(ascending=False).values)\n",
    "plt.xlabel('user rank')\n",
    "plt.ylabel('Reviews per user')\n",
    "plt.title('Distribution of amount of reviews')"
   ]
  },
  {
   "cell_type": "code",
   "execution_count": 9,
   "metadata": {},
   "outputs": [
    {
     "data": {
      "text/plain": [
       "Text(0.5, 1.0, 'Distribution of amount of friends')"
      ]
     },
     "execution_count": 9,
     "metadata": {},
     "output_type": "execute_result"
    },
    {
     "data": {
      "image/png": "[encoded data removed]",
      "text/plain": [
       "<Figure size 432x288 with 1 Axes>"
      ]
     },
     "metadata": {
      "needs_background": "light"
     },
     "output_type": "display_data"
    }
   ],
   "source": [
    "plt.plot(users['friends'].map(len).sort_values(ascending=False).values)\n",
    "plt.xlabel('user rank')\n",
    "plt.ylabel('friends per user')\n",
    "plt.title('Distribution of amount of friends')"
   ]
  },
  {
   "cell_type": "code",
   "execution_count": 10,
   "metadata": {},
   "outputs": [
    {
     "data": {
      "text/plain": [
       "Text(0.5, 1.0, 'Distribution of amount of fans')"
      ]
     },
     "execution_count": 10,
     "metadata": {},
     "output_type": "execute_result"
    },
    {
     "data": {
      "image/png": "[encoded data removed]",
      "text/plain": [
       "<Figure size 432x288 with 1 Axes>"
      ]
     },
     "metadata": {
      "needs_background": "light"
     },
     "output_type": "display_data"
    }
   ],
   "source": [
    "plt.plot(users[\"fans\"].sort_values(ascending=False).values)\n",
    "plt.xlabel('user rank')\n",
    "plt.ylabel('fans per user')\n",
    "plt.title('Distribution of amount of fans')"
   ]
  },
  {
   "cell_type": "code",
   "execution_count": 11,
   "metadata": {},
   "outputs": [
    {
     "data": {
      "text/plain": [
       "Text(0.5, 1.0, 'Distribution of useful votes')"
      ]
     },
     "execution_count": 11,
     "metadata": {},
     "output_type": "execute_result"
    },
    {
     "data": {
      "image/png": "[encoded data removed]",
      "text/plain": [
       "<Figure size 432x288 with 1 Axes>"
      ]
     },
     "metadata": {
      "needs_background": "light"
     },
     "output_type": "display_data"
    }
   ],
   "source": [
    "plt.plot(reviews.groupby('user_id')['useful'].count().sort_values(ascending=False).values)\n",
    "plt.xlabel('user rank')\n",
    "plt.ylabel('number of useful votes received per user')\n",
    "plt.title('Distribution of useful votes')"
   ]
  },
  {
   "cell_type": "code",
   "execution_count": 12,
   "metadata": {},
   "outputs": [
    {
     "data": {
      "text/plain": [
       "Text(0.5, 1.0, 'Distribution of amount of reviews')"
      ]
     },
     "execution_count": 12,
     "metadata": {},
     "output_type": "execute_result"
    },
    {
     "data": {
      "image/png": "[encoded data removed]",
      "text/plain": [
       "<Figure size 432x288 with 1 Axes>"
      ]
     },
     "metadata": {
      "needs_background": "light"
     },
     "output_type": "display_data"
    }
   ],
   "source": [
    "plt.plot(businesses['review_count'].sort_values(ascending=False).values)\n",
    "plt.xlabel('business rank')\n",
    "plt.ylabel('reviews per business')\n",
    "plt.title('Distribution of amount of reviews')"
   ]
  },
  {
   "cell_type": "code",
   "execution_count": 13,
   "metadata": {},
   "outputs": [
    {
     "ename": "NameError",
     "evalue": "name 'businessC' is not defined",
     "output_type": "error",
     "traceback": [
      "\u001b[1;31m---------------------------------------------------------------------------\u001b[0m",
      "\u001b[1;31mNameError\u001b[0m                                 Traceback (most recent call last)",
      "\u001b[1;32m<ipython-input-13-2974d8e3cdf8>\u001b[0m in \u001b[0;36m<module>\u001b[1;34m\u001b[0m\n\u001b[1;32m----> 1\u001b[1;33m \u001b[0mbusinessC\u001b[0m\u001b[1;33m\u001b[0m\u001b[1;33m\u001b[0m\u001b[0m\n\u001b[0m",
      "\u001b[1;31mNameError\u001b[0m: name 'businessC' is not defined"
     ]
    }
   ],
   "source": [
    "businessC"
   ]
  },
  {
   "cell_type": "code",
   "execution_count": null,
   "metadata": {},
   "outputs": [],
   "source": []
  },
  {
   "cell_type": "code",
   "execution_count": null,
   "metadata": {},
   "outputs": [],
   "source": []
  },
  {
   "cell_type": "code",
   "execution_count": null,
   "metadata": {},
   "outputs": [],
   "source": [
    "businessC = businesses.copy()\n",
    "\n",
    "# get attributes\n",
    "attributesList = [set(value.keys()) for value in businesses['attributes'].values if type(value) == dict]\n",
    "attributes = {attribute for attributes in attributesList for attribute in attributes}\n",
    "\n",
    "# create empty columns per attribute\n",
    "for attribute in attributes:\n",
    "    if attribute not in businessC:\n",
    "        businessC[attribute] = pd.Series()\n",
    "\n",
    "# set value to True if attribute is in 'attributes' of business\n",
    "for attribute in attributes:\n",
    "    for index in businessC.index:\n",
    "        if businessC['attributes'][index] != None:\n",
    "            if attribute in businessC['attributes'][index].keys():\n",
    "                businessC[attribute][index] = True\n",
    "            else:\n",
    "                businessC[attribute][index] = False\n",
    "\n",
    "# drop businesses with no attributes\n",
    "businessC = businessC[businessC['attributes'].notna()]\n",
    "\n",
    "# set amount of businesses with the attribute in 'attributes'\n",
    "true =  [businessC[attribute].sum() for attribute in attributes]\n",
    "false = [len(businessC[attribute])-value for value in true]\n",
    "\n",
    "fig, ax = plt.subplots(figsize=(40, 8))\n",
    "x = np.arange(len(attributes))\n",
    "\n",
    "# Define bar width. We'll use this to offset the second bar.\n",
    "bar_width = 0.4\n",
    "\n",
    "# Note we add the `width` parameter now which sets the width of each bar.\n",
    "b1 = ax.bar(x, true,\n",
    "            width=bar_width)\n",
    "# Same thing, but offset the x by the width of the bar.\n",
    "b2 = ax.bar(x + .5, false,\n",
    "            width=bar_width)\n",
    "\n",
    "# fix tick interval\n",
    "ax.set_xticks(x + bar_width / 2)\n",
    "\n",
    "# fix tick labels\n",
    "ax.set_xticklabels(attributes, rotation = 45, ha = 'right')\n",
    "plt.rcParams.update({'axes.titlesize': 'xx-large',\n",
    "                     'axes.labelsize': 'large',\n",
    "                     'font.size': 20})\n",
    "\n",
    "\n",
    "plt.legend(['True' ,'False'], loc='upper left')\n",
    "plt.title('Amount of businesses that have a certain attribute')"
   ]
  },
  {
   "cell_type": "code",
   "execution_count": null,
   "metadata": {},
   "outputs": [],
   "source": [
    "businessesC = businesses.copy()\n",
    "businessesC = businessesC[businessesC['categories'].notna()]\n",
    "\n",
    "# seperate values within categories\n",
    "businessesC['categories'] = businessesC['categories'].map(stripSplit)\n",
    "\n",
    "# determine categories and their occurences\n",
    "categories = [value for values in businessesC['categories'].values for value in values]\n",
    "occurences = Counter(categories)\n",
    "categorySeries = pd.Series(list(occurences.values()), occurences.keys())\n",
    "\n",
    "# drop bottom 1% and get x- and y-values\n",
    "sortedSeries = categorySeries[categorySeries > 10].sort_values(ascending=False)\n",
    "heights = sortedSeries.values\n",
    "x = np.arange(len(sortedSeries.index))\n",
    "\n",
    "# draw plot\n",
    "fig, ax = plt.subplots(figsize=(40, 8))\n",
    "b1 = ax.bar(x, heights)\n",
    "ax.set_xticks(x)\n",
    "ax.set_xticklabels(sortedSeries.index, rotation = 45, ha = 'right')\n",
    "plt.title('Amount of businesses per category')"
   ]
  },
  {
   "cell_type": "markdown",
   "metadata": {},
   "source": [
    "# Businesses en reviews bruikbaar maken"
   ]
  },
  {
   "cell_type": "code",
   "execution_count": null,
   "metadata": {
    "scrolled": false
   },
   "outputs": [],
   "source": [
    "# normalize business categories\n",
    "businessCopy = businesses.copy()\n",
    "businessCopy = businessCopy[businessCopy['categories'].notna()]\n",
    "businessCopy['categories'] = businessCopy['categories'].map(stripSplit)\n",
    "businessCopy.head()"
   ]
  },
  {
   "cell_type": "code",
   "execution_count": null,
   "metadata": {},
   "outputs": [],
   "source": [
    "reviewsCopy = reviews.copy()[['user_id', 'business_id', 'stars']]\n",
    "reviewsCopy.head()"
   ]
  },
  {
   "cell_type": "markdown",
   "metadata": {},
   "source": [
    "# Algoritmes"
   ]
  },
  {
   "cell_type": "code",
   "execution_count": null,
   "metadata": {},
   "outputs": [],
   "source": [
    "trainingSet, testSet = split_data(reviewsCopy, .8)\n",
    "utilityRatings = pivot_ratings(trainingSet)\n",
    "userMeans = pd.Series(users['average_stars'].values,users['user_id'], name='stars')"
   ]
  },
  {
   "cell_type": "markdown",
   "metadata": {},
   "source": [
    "## Collaborative"
   ]
  },
  {
   "cell_type": "markdown",
   "metadata": {},
   "source": [
    "### Item-based"
   ]
  },
  {
   "cell_type": "code",
   "execution_count": null,
   "metadata": {},
   "outputs": [],
   "source": [
    "similarityBusinesses = create_similarity_matrix_cosine(utilityRatings)\n",
    "predictedItem = predict_ratings(similarityBusinesses, utilityRatings, testSet)\n",
    "zeroesItem = len(predictedItem[predictedItem['predicted rating'] == 0])\n",
    "predictedItem = predictedItem[predictedItem['predicted rating'] != 0]\n",
    "display(predictedItem.head())"
   ]
  },
  {
   "cell_type": "markdown",
   "metadata": {},
   "source": [
    "### User-based"
   ]
  },
  {
   "cell_type": "code",
   "execution_count": null,
   "metadata": {},
   "outputs": [],
   "source": [
    "utilityRatings2 = utilityRatings.T.reindex(index=sorted(utilityRatings))\n",
    "similarityUsers = create_similarity_matrix_cosine(utilityRatings)\n",
    "predictedUser = predict_ratings(similarityUsers, utilityRatings2, testSet)\n",
    "zeroesUser = len(predictedUser[predictedUser['predicted rating'] == 0])\n",
    "predictedUser = predictedUser[predictedUser['predicted rating'] != 0]\n",
    "display(predictedUser.head())"
   ]
  },
  {
   "cell_type": "markdown",
   "metadata": {},
   "source": [
    "## Content based"
   ]
  },
  {
   "cell_type": "code",
   "execution_count": null,
   "metadata": {},
   "outputs": [],
   "source": [
    "%%time\n",
    "utilityCategories = pivotCategories(extractCategories(businessCopy))\n",
    "similarityCategories = create_similarity_matrix_jaccard(utilityCategories)\n",
    "predictedContent = predict_ratings(similarityCategories, utilityRatings, testSet)\n",
    "zeroesContent = len(predictedContent[predictedContent['predicted rating'] == 0])\n",
    "predictedContent = predictedContent[predictedContent['predicted rating'] != 0]\n",
    "display(predictedContent.head())"
   ]
  },
  {
   "cell_type": "code",
   "execution_count": null,
   "metadata": {
    "scrolled": false
   },
   "outputs": [],
   "source": [
    "print(zeroesItem)\n",
    "print(zeroesUser)\n",
    "print(zeroesContent)"
   ]
  },
  {
   "cell_type": "markdown",
   "metadata": {},
   "source": [
    "## Random en mean"
   ]
  },
  {
   "cell_type": "code",
   "execution_count": null,
   "metadata": {},
   "outputs": [],
   "source": [
    "predictedRandom = testSet.copy()\n",
    "predictedRandom['predicted rating'] = [0 + (5 * np.random.random_sample()) for x in range(len(predictedRandom))]\n",
    "display('random', predictedRandom.head())\n",
    "\n",
    "predictedMean = testSet.copy()\n",
    "userMeans =  pd.Series(users['average_stars'].values, users['user_id'], name='average_stars')\n",
    "predictedMean = predictedMean.merge(userMeans, on='user_id')\n",
    "predictedMean = predictedMean.rename(columns={\"average_stars\": \"predicted rating\"})\n",
    "display('mean', predictedMean.head())"
   ]
  },
  {
   "cell_type": "markdown",
   "metadata": {},
   "source": [
    "# MSE"
   ]
  },
  {
   "cell_type": "code",
   "execution_count": null,
   "metadata": {},
   "outputs": [],
   "source": [
    "print(f'MSE for user-based: {mse(predictedUser):.2f}')\n",
    "print(f'MSE for item-based: {mse(predictedItem):.2f}')\n",
    "print(f'MSE for content based: {mse(predictedContent):.2f}')\n",
    "print(f'MSE for random: {mse(predictedRandom):.2f}')\n",
    "print(f'MSE for mean: {mse(predictedMean):.2f}')"
   ]
  },
  {
   "cell_type": "markdown",
   "metadata": {},
   "source": [
    "# Recommendations"
   ]
  },
  {
   "cell_type": "code",
   "execution_count": null,
   "metadata": {},
   "outputs": [],
   "source": [
    "# get users with the most recommended businesses\n",
    "predictedUserT = predictedUser.copy()[predictedUser['predicted rating'] > 3].groupby('user_id').count().sort_values('stars', ascending=False)\n",
    "predictedItemT = predictedItem.copy()[predictedItem['predicted rating'] > 3].groupby('user_id').count().sort_values('stars', ascending=False)\n",
    "predictedContentT = predictedContent.copy()[predictedContent['predicted rating'] > 3].groupby('user_id').count().sort_values('stars', ascending=False)\n",
    "predictedRandomT = predictedRandom.copy()[predictedRandom['predicted rating'] > 3].groupby('user_id').count().sort_values('stars', ascending=False)\n",
    "predictedMeanT = predictedMean.copy()[predictedMean['predicted rating'] > 3].groupby('user_id').count().sort_values('stars', ascending=False)"
   ]
  },
  {
   "cell_type": "code",
   "execution_count": null,
   "metadata": {
    "scrolled": false
   },
   "outputs": [],
   "source": [
    "display(predictedUserT.head())\n",
    "display(predictedItemT.head())\n",
    "display(predictedContentT.head())\n",
    "display(predictedRandomT.head())\n",
    "display(predictedMeanT.head())"
   ]
  },
  {
   "cell_type": "code",
   "execution_count": null,
   "metadata": {},
   "outputs": [],
   "source": [
    "\n",
    "    \n",
    "    "
   ]
  },
  {
   "cell_type": "code",
   "execution_count": null,
   "metadata": {},
   "outputs": [],
   "source": [
    "recommendations = recommendBusinesses('CxDOIDnH8gp9KXzpBHJYXw', predictedContent, businesses, users)\n",
    "printRecommmended(recommendations)\n",
    "recommendations[1]"
   ]
  },
  {
   "cell_type": "markdown",
   "metadata": {},
   "source": [
    "# Mean Dissimilarity"
   ]
  },
  {
   "cell_type": "code",
   "execution_count": null,
   "metadata": {},
   "outputs": [],
   "source": [
    "def md(similarities, recommendations):\n",
    "    similarityCopy = similarities.copy().reindex(columns=recommendations,index=recommendations)\n",
    "    return (1 - similarityCopy.mean().mean())\n",
    "    \n",
    "ids = recommendations[1]\n",
    "md(similarityCategories, ids)"
   ]
  },
  {
   "cell_type": "markdown",
   "metadata": {},
   "source": [
    "# Evaluatie"
   ]
  },
  {
   "cell_type": "markdown",
   "metadata": {},
   "source": [
    "## Plots"
   ]
  },
  {
   "cell_type": "markdown",
   "metadata": {},
   "source": [
    "### Precision&Recall"
   ]
  },
  {
   "cell_type": "code",
   "execution_count": null,
   "metadata": {
    "scrolled": false
   },
   "outputs": [],
   "source": [
    "threshold_used = 3.9\n",
    "threshold_recommended = list(np.arange(2.5,5.0,0.5))\n",
    "\n",
    "# item based\n",
    "precisions = [get_pr(predictedItem, threshold_recommended[x], threshold_used)[0] \n",
    "              for x in range(len(threshold_recommended))] \n",
    "recalls = [get_pr(predictedItem, threshold_recommended[x], threshold_used)[1]\n",
    "              for x in range(len(threshold_recommended))] \n",
    "plt.plot(recalls, precisions)\n",
    "for r, p, t in zip(recalls, precisions, threshold_recommended):\n",
    "    plt.text(r, p, t)\n",
    "    \n",
    "# # user based\n",
    "# precisions = [get_pr(predictedUser, threshold_recommended[x], threshold_used)[0] \n",
    "#               for x in range(len(threshold_recommended))] \n",
    "# recalls = [get_pr(predictedUser, threshold_recommended[x], threshold_used)[1]\n",
    "#               for x in range(len(threshold_recommended))] \n",
    "\n",
    "# plt.plot(recalls, precisions)\n",
    "# for r, p, t in zip(recalls, precisions, threshold_recommended):\n",
    "#     plt.text(r, p, t)\n",
    "    \n",
    "# random\n",
    "precisions = [get_pr(predictedRandom, threshold_recommended[x], threshold_used)[0] \n",
    "              for x in range(len(threshold_recommended))] \n",
    "recalls = [get_pr(predictedRandom, threshold_recommended[x], threshold_used)[1]\n",
    "              for x in range(len(threshold_recommended))] \n",
    "plt.plot(recalls, precisions)\n",
    "for r, p, t in zip(recalls, precisions, threshold_recommended):\n",
    "    plt.text(r, p, t)\n",
    "    \n",
    "# mean\n",
    "precisions = [get_pr(predictedMean, threshold_recommended[x], threshold_used)[0] \n",
    "              for x in range(len(threshold_recommended))] \n",
    "recalls = [get_pr(predictedMean, threshold_recommended[x], threshold_used)[1]\n",
    "              for x in range(len(threshold_recommended))] \n",
    "plt.plot(recalls, precisions)\n",
    "for r, p, t in zip(recalls, precisions, threshold_recommended):\n",
    "    plt.text(r, p, t)  \n",
    "\n",
    "# content\n",
    "precisions = [get_pr(predictedContent, threshold_recommended[x], threshold_used)[0] \n",
    "              for x in range(len(threshold_recommended))] \n",
    "recalls = [get_pr(predictedContent, threshold_recommended[x], threshold_used)[1]\n",
    "              for x in range(len(threshold_recommended))] \n",
    "plt.plot(recalls, precisions)\n",
    "for r, p, t in zip(recalls, precisions, threshold_recommended):\n",
    "    plt.text(r, p, t)    \n",
    "    \n",
    "plt.xlim(0.0, 1.0)\n",
    "plt.ylim(0.3, 1.0)\n",
    "plt.xlabel('recall')\n",
    "plt.ylabel('precision')\n",
    "plt.title('Precision en recall plot')\n",
    "plt.legend(['item based', 'random', 'mean', 'content'], loc = 'lower left')"
   ]
  },
  {
   "cell_type": "markdown",
   "metadata": {},
   "source": [
    "### Dissimilarity"
   ]
  },
  {
   "cell_type": "code",
   "execution_count": null,
   "metadata": {},
   "outputs": [],
   "source": [
    "itemIds = [predictedItem[predictedItem['predicted rating'] > threshold ]['business_id'].values for threshold in threshold_recommended]\n",
    "itemMDs = [md(similarityCategories, Id) for Id in itemIds]\n",
    "\n",
    "# userIds = [predictedUser[predictedUser['predicted rating'] > threshold ]['business_id'].values for threshold in threshold_recommended]\n",
    "# userMDs = [md(similarityCategories, Id) for Id in userIds]\n",
    "\n",
    "contentIds = [predictedContent[predictedContent['predicted rating'] > threshold ]['business_id'].values for threshold in threshold_recommended]\n",
    "contentMDs = [md(similarityCategories, Id) for Id in contentIds]\n",
    "\n",
    "randomIds = [predictedRandom[predictedRandom['predicted rating'] > threshold ]['business_id'].values for threshold in threshold_recommended]\n",
    "randomMDs = [md(similarityCategories, Id) for Id in randomIds]\n",
    "\n",
    "meanIds = [predictedMean[predictedMean['predicted rating'] > threshold ]['business_id'].values for threshold in threshold_recommended]\n",
    "meanMDs = [md(similarityCategories, Id) for Id in meanIds]"
   ]
  },
  {
   "cell_type": "code",
   "execution_count": null,
   "metadata": {},
   "outputs": [],
   "source": [
    "# item based\n",
    "plt.plot(threshold_recommended, itemMDs)\n",
    "# plt.plot(threshold_recommended, userMDs)\n",
    "plt.plot(threshold_recommended, contentMDs)\n",
    "plt.plot(threshold_recommended, randomMDs)\n",
    "plt.plot(threshold_recommended, meanMDs)\n",
    "\n",
    "    \n",
    "plt.title('Mean Dissimilarity plot')\n",
    "plt.xlabel('threshold_recommended')\n",
    "plt.ylabel('Mean Dissimilarity')\n",
    "\n",
    "plt.legend(['item based', 'content', 'random', 'mean'], loc = 'upper left')"
   ]
  },
  {
   "cell_type": "markdown",
   "metadata": {},
   "source": [
    "### MSE's"
   ]
  },
  {
   "cell_type": "code",
   "execution_count": null,
   "metadata": {},
   "outputs": [],
   "source": [
    "heights = sorted([mse(predictedItem), mse(predictedContent),  mse(predictedRandom),  mse(predictedMean)])\n",
    "heights.append(np.nan)\n",
    "bars = ['mean', 'item', 'content', 'random', 'user']\n",
    "plt.bar(bars,heights)\n",
    "plt.title('MSE plot')\n",
    "plt.xlabel('Algorithm')\n",
    "plt.ylabel('Mean Squared Error')"
   ]
  },
  {
   "cell_type": "markdown",
   "metadata": {},
   "source": [
    "## Review dichtheid"
   ]
  },
  {
   "cell_type": "code",
   "execution_count": null,
   "metadata": {
    "scrolled": true
   },
   "outputs": [],
   "source": [
    "%%time\n",
    "userThresholds = [8,10,50,100,200, 250, 300, 350, 400]\n",
    "\n",
    "itemPredictions = [multiPredict(threshold, 'review_count', 'item', reviewsCopy) for threshold in userThresholds]\n",
    "contentPredictions = [multiPredict(threshold, 'review_count', 'content', reviewsCopy) for threshold in userThresholds]\n",
    "meanPredictions = [multiPredict(threshold, 'review_count', 'mean', reviewsCopy) for threshold in userThresholds]\n",
    "randomPredictions = [multiPredict(threshold, 'review_count', 'random', reviewsCopy) for threshold in userThresholds]"
   ]
  },
  {
   "cell_type": "code",
   "execution_count": null,
   "metadata": {},
   "outputs": [],
   "source": [
    "itemDensity = [mse(prediction) for prediction in itemPredictions]\n",
    "contentDensity = [mse(prediction) for prediction in contentPredictions]\n",
    "meanDensity = [mse(prediction) for prediction in meanPredictions]\n",
    "randomDensity = [mse(prediction) for prediction in randomPredictions]\n",
    "\n",
    "plt.plot(userThresholds, itemDensity)\n",
    "plt.plot(userThresholds, contentDensity)\n",
    "plt.plot(userThresholds, randomDensity)\n",
    "plt.plot(userThresholds, meanDensity)\n",
    "\n",
    "    \n",
    "plt.title('MSE vs Density plot')\n",
    "plt.xlabel('reviews per user')\n",
    "plt.ylabel('MSE')\n",
    "\n",
    "plt.legend(['item based', 'content', 'random', 'mean'], loc = 'center left')"
   ]
  },
  {
   "cell_type": "code",
   "execution_count": null,
   "metadata": {},
   "outputs": [],
   "source": [
    "threshold_used = 3.9\n",
    "threshold_recommended = list(np.arange(2.5,5.0,0.5))\n",
    "\n",
    "# item based\n",
    "precisions = [get_pr(itemPredictions[-1], threshold_recommended[x], threshold_used)[0] \n",
    "              for x in range(len(threshold_recommended))] \n",
    "recalls = [get_pr(itemPredictions[-1], threshold_recommended[x], threshold_used)[1]\n",
    "              for x in range(len(threshold_recommended))] \n",
    "plt.plot(recalls, precisions)\n",
    "for r, p, t in zip(recalls, precisions, threshold_recommended):\n",
    "    plt.text(r, p, t)\n",
    "    \n",
    "# # user based\n",
    "# precisions = [get_pr(predictedUser, threshold_recommended[x], threshold_used)[0] \n",
    "#               for x in range(len(threshold_recommended))] \n",
    "# recalls = [get_pr(predictedUser, threshold_recommended[x], threshold_used)[1]\n",
    "#               for x in range(len(threshold_recommended))] \n",
    "\n",
    "# plt.plot(recalls, precisions)\n",
    "# for r, p, t in zip(recalls, precisions, threshold_recommended):\n",
    "#     plt.text(r, p, t)\n",
    "    \n",
    "# random\n",
    "precisions = [get_pr(randomPredictions[-1], threshold_recommended[x], threshold_used)[0] \n",
    "              for x in range(len(threshold_recommended))] \n",
    "recalls = [get_pr(randomPredictions[-1], threshold_recommended[x], threshold_used)[1]\n",
    "              for x in range(len(threshold_recommended))] \n",
    "plt.plot(recalls, precisions)\n",
    "for r, p, t in zip(recalls, precisions, threshold_recommended):\n",
    "    plt.text(r, p, t)\n",
    "    \n",
    "# mean\n",
    "precisions = [get_pr(meanPredictions[-1], threshold_recommended[x], threshold_used)[0] \n",
    "              for x in range(len(threshold_recommended))] \n",
    "recalls = [get_pr(meanPredictions[-1], threshold_recommended[x], threshold_used)[1]\n",
    "              for x in range(len(threshold_recommended))] \n",
    "plt.plot(recalls, precisions)\n",
    "for r, p, t in zip(recalls, precisions, threshold_recommended):\n",
    "    plt.text(r, p, t)  \n",
    "\n",
    "# content\n",
    "precisions = [get_pr(contentPredictions[-1], threshold_recommended[x], threshold_used)[0] \n",
    "              for x in range(len(threshold_recommended))] \n",
    "recalls = [get_pr(contentPredictions[-1], threshold_recommended[x], threshold_used)[1]\n",
    "              for x in range(len(threshold_recommended))] \n",
    "plt.plot(recalls, precisions)\n",
    "for r, p, t in zip(recalls, precisions, threshold_recommended):\n",
    "    plt.text(r, p, t)    \n",
    "    \n",
    "plt.xlim(0.0, 1.0)\n",
    "plt.ylim(0.3, 1.0)\n",
    "plt.xlabel('recall')\n",
    "plt.ylabel('precision')\n",
    "plt.title('Precision en recall plot')\n",
    "plt.legend(['item based', 'random', 'mean', 'content'], loc = 'lower left')"
   ]
  },
  {
   "cell_type": "markdown",
   "metadata": {},
   "source": [
    "## Niet-plots"
   ]
  },
  {
   "cell_type": "markdown",
   "metadata": {},
   "source": [
    "### Nullen verwijderd"
   ]
  },
  {
   "cell_type": "code",
   "execution_count": null,
   "metadata": {},
   "outputs": [],
   "source": [
    "print(f'Amount of zeroes removed from predicted item: {zeroesItem}')\n",
    "print(f'Amount of zeroes removed from predicted content: {zeroesContent}')\n",
    "print(f'Amount of zeroesInv removed from predicted user: {zeroesUser}')"
   ]
  },
  {
   "cell_type": "markdown",
   "metadata": {},
   "source": [
    "### Invloed van reviews per gebruiker/bedrijf op de MSE"
   ]
  },
  {
   "cell_type": "code",
   "execution_count": null,
   "metadata": {},
   "outputs": [],
   "source": [
    "%%time\n",
    "# create dataframe showing the effect of review count on the mse\n",
    "indexRanges = [8,10,50,100,200]\n",
    "columnRanges = indexRanges + [250, 300, 350, 400]\n",
    "regularMSE = pd.DataFrame(index=indexRanges,columns=columnRanges)\n",
    "for column in regularMSE.columns:\n",
    "    regularMSE[column] = [mse(multiPredict(column, x, 'review_count', 'content', reviewsCopy)) for x in indexRanges]\n"
   ]
  },
  {
   "cell_type": "code",
   "execution_count": null,
   "metadata": {},
   "outputs": [],
   "source": [
    "display(regularMSE)"
   ]
  }
 ],
 "metadata": {
  "kernelspec": {
   "display_name": "Python 3",
   "language": "python",
   "name": "python3"
  },
  "language_info": {
   "codemirror_mode": {
    "name": "ipython",
    "version": 3
   },
   "file_extension": ".py",
   "mimetype": "text/x-python",
   "name": "python",
   "nbconvert_exporter": "python",
   "pygments_lexer": "ipython3",
   "version": "3.7.6"
  }
 },
 "nbformat": 4,
 "nbformat_minor": 4
}
